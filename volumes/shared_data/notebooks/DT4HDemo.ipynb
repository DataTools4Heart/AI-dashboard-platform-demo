{
 "cells": [
  {
   "cell_type": "markdown",
   "id": "c2196dd9-a114-4967-9fb7-d86709cde0db",
   "metadata": {
    "tags": []
   },
   "source": [
    "## DT4H March 2024 CM Demo\n",
    "\n",
    "Data materialization example using FL orchestrator.\n",
    "\n",
    "Documentation can be found at https.//fl.bsc.es/flmanager/API/v1/docs\n",
    "\n",
    "### Requirements\n",
    "requests"
   ]
  },
  {
   "cell_type": "code",
   "execution_count": 9,
   "id": "e59f72c4-247f-43dd-a06a-f3d827fc9ece",
   "metadata": {},
   "outputs": [],
   "source": [
    "import requests\n",
    "\n",
    "api_prefix = 'https://fl.bsc.es/flmanager/API/v1'\n",
    "\n",
    "# Credentials\n",
    "username = 'test@test.bsc'\n",
    "password = 'test'\n",
    "# token = 'my_token'\n",
    "client_id = 'fl_manager_api'\n",
    "client_secret = 'AeBUrWqWO2DrIfYsPBIIOvyc1vrnnFv3'\n",
    "\n",
    "\n",
    "\n"
   ]
  },
  {
   "cell_type": "markdown",
   "id": "075a5053-56ce-49e7-b5fa-032b4564cc96",
   "metadata": {},
   "source": [
    "### Get Access Token \n",
    "From username/password pair"
   ]
  },
  {
   "cell_type": "code",
   "execution_count": 19,
   "id": "220db608-8dd7-498a-97f6-3c87fbb37180",
   "metadata": {},
   "outputs": [],
   "source": [
    "url = f\"{api_prefix}/token\"\n",
    "credentials = {\n",
    "        'username': username,\n",
    "        'password': password,\n",
    "        'client_id': client_id,\n",
    "        'client_secret' : client_secret\n",
    "    }\n",
    "\n",
    "response_data = requests.post(url, data=credentials)\n",
    "token = response_data.json()['access_token']\n",
    "headers = {'Authorization': f'Bearer {token}'}"
   ]
  },
  {
   "cell_type": "markdown",
   "id": "ae8aeb3b-7a9b-43e4-8085-e092d9b033db",
   "metadata": {},
   "source": [
    "### Get available nodes\n"
   ]
  },
  {
   "cell_type": "code",
   "execution_count": 20,
   "id": "ef630fc2-e34b-49b5-afba-af60f63c8ece",
   "metadata": {},
   "outputs": [
    {
     "data": {
      "text/plain": [
       "[{'_id': 'ICRC',\n",
       "  'name': 'ICRC',\n",
       "  'accessible_via': 'ampq',\n",
       "  'ampq_server': 'your_ampq_server',\n",
       "  'ampq_exchange': 'your_ampq_exchange',\n",
       "  'launchers': ['docker', 'singularity'],\n",
       "  'image_pull_policy': '*',\n",
       "  'sandbox_root_dir': '/path/to/bsc_sandbox',\n",
       "  'sandbox_persistent': True,\n",
       "  'local_data_root_dir': '/path/to/bsc_data',\n",
       "  'whitelist_ip': ['192.168.1.1', '192.168.1.2'],\n",
       "  'tools': ['eucaim-fl-ml-server', 'eucaim-fl-ml-client', 'other_tools']},\n",
       " {'_id': 'UB',\n",
       "  'name': 'UB',\n",
       "  'accessible_via': 'ampq',\n",
       "  'ampq_server': 'your_ampq_server',\n",
       "  'ampq_exchange': 'your_ampq_exchange',\n",
       "  'launchers': ['docker', 'singularity'],\n",
       "  'image_pull_policy': '*',\n",
       "  'sandbox_root_dir': '/path/to/bsc_sandbox',\n",
       "  'sandbox_persistent': True,\n",
       "  'local_data_root_dir': '/path/to/bsc_data',\n",
       "  'whitelist_ip': ['192.168.1.1', '192.168.1.2'],\n",
       "  'tools': ['eucaim-fl-ml-server', 'eucaim-fl-ml-client', 'other_tools']},\n",
       " {'_id': 'BSC',\n",
       "  'name': 'BSC',\n",
       "  'accessible_via': 'ampq',\n",
       "  'ampq_server': 'your_ampq_server',\n",
       "  'ampq_exchange': 'your_ampq_exchange',\n",
       "  'launchers': ['docker', 'singularity'],\n",
       "  'image_pull_policy': '*',\n",
       "  'sandbox_root_dir': '/path/to/bsc_sandbox',\n",
       "  'sandbox_persistent': True,\n",
       "  'local_data_root_dir': '/path/to/bsc_data',\n",
       "  'whitelist_ip': ['192.168.1.1', '192.168.1.2'],\n",
       "  'tools': ['eucaim-fl-ml-server', 'eucaim-fl-ml-client', 'other_tools']},\n",
       " {'_id': 'GEM',\n",
       "  'name': 'GEM',\n",
       "  'accessible_via': 'ampq',\n",
       "  'ampq_server': 'your_ampq_server',\n",
       "  'ampq_exchange': 'your_ampq_exchange',\n",
       "  'launchers': ['docker', 'singularity'],\n",
       "  'image_pull_policy': '*',\n",
       "  'sandbox_root_dir': '/path/to/bsc_sandbox',\n",
       "  'sandbox_persistent': True,\n",
       "  'local_data_root_dir': '/path/to/bsc_data',\n",
       "  'whitelist_ip': ['192.168.1.1', '192.168.1.2'],\n",
       "  'tools': ['eucaim-fl-ml-server', 'eucaim-fl-ml-client', 'other_tools']},\n",
       " {'_id': 'UCL',\n",
       "  'name': 'UCL',\n",
       "  'accessible_via': 'ampq',\n",
       "  'ampq_server': 'your_ampq_server',\n",
       "  'ampq_exchange': 'your_ampq_exchange',\n",
       "  'launchers': ['docker', 'singularity'],\n",
       "  'image_pull_policy': '*',\n",
       "  'sandbox_root_dir': '/path/to/bsc_sandbox',\n",
       "  'sandbox_persistent': True,\n",
       "  'local_data_root_dir': '/path/to/bsc_data',\n",
       "  'whitelist_ip': ['192.168.1.1', '192.168.1.2'],\n",
       "  'tools': ['eucaim-fl-ml-server', 'eucaim-fl-ml-client', 'other_tools']},\n",
       " {'_id': 'KUH',\n",
       "  'name': 'KUH',\n",
       "  'accessible_via': 'ampq',\n",
       "  'ampq_server': 'your_ampq_server',\n",
       "  'ampq_exchange': 'your_ampq_exchange',\n",
       "  'launchers': ['docker', 'singularity'],\n",
       "  'image_pull_policy': '*',\n",
       "  'sandbox_root_dir': '/path/to/bsc_sandbox',\n",
       "  'sandbox_persistent': True,\n",
       "  'local_data_root_dir': '/path/to/bsc_data',\n",
       "  'whitelist_ip': ['192.168.1.1', '192.168.1.2'],\n",
       "  'tools': ['eucaim-fl-ml-server', 'eucaim-fl-ml-client', 'other_tools']}]"
      ]
     },
     "execution_count": 20,
     "metadata": {},
     "output_type": "execute_result"
    }
   ],
   "source": [
    "url = f\"{api_prefix}/hosts\"\n",
    "response_data = requests.get(url, headers=headers)\n",
    "host_list = response_data.json()\n",
    "host_list"
   ]
  },
  {
   "cell_type": "markdown",
   "id": "2edba1d8-9b39-4c9c-a7fb-3cf40b77f7e0",
   "metadata": {},
   "source": [
    "### Examine a single node"
   ]
  },
  {
   "cell_type": "code",
   "execution_count": 21,
   "id": "a8280d72-75b1-4032-b391-fb5140917bf0",
   "metadata": {},
   "outputs": [
    {
     "data": {
      "text/plain": [
       "{'_id': 'BSC',\n",
       " 'name': 'BSC',\n",
       " 'accessible_via': 'ampq',\n",
       " 'ampq_server': 'your_ampq_server',\n",
       " 'ampq_exchange': 'your_ampq_exchange',\n",
       " 'launchers': ['docker', 'singularity'],\n",
       " 'image_pull_policy': '*',\n",
       " 'sandbox_root_dir': '/path/to/bsc_sandbox',\n",
       " 'sandbox_persistent': True,\n",
       " 'local_data_root_dir': '/path/to/bsc_data',\n",
       " 'whitelist_ip': ['192.168.1.1', '192.168.1.2'],\n",
       " 'tools': ['eucaim-fl-ml-server', 'eucaim-fl-ml-client', 'other_tools']}"
      ]
     },
     "execution_count": 21,
     "metadata": {},
     "output_type": "execute_result"
    }
   ],
   "source": [
    "host_id = 'BSC'\n",
    "url = f\"{api_prefix}/hosts/{host_id}\"\n",
    "response_data = requests.get(url, headers=headers)\n",
    "response_data.json()"
   ]
  },
  {
   "cell_type": "markdown",
   "id": "b5bc227f-3fa7-4d68-874b-6d370b0eadf8",
   "metadata": {},
   "source": [
    "### Node health check"
   ]
  },
  {
   "cell_type": "code",
   "execution_count": 22,
   "id": "8c159e00-131a-4255-8c96-8abd94f2dbc4",
   "metadata": {},
   "outputs": [
    {
     "data": {
      "text/plain": [
       "<Response [500]>"
      ]
     },
     "execution_count": 22,
     "metadata": {},
     "output_type": "execute_result"
    }
   ],
   "source": [
    "url = f\"{api_prefix}/hosts/health?nodes={host_id}\"\n",
    "response_data = requests.get(url, headers=headers)\n",
    "response_data"
   ]
  },
  {
   "cell_type": "markdown",
   "id": "1c1a1773-8755-436a-a3db-024d4d7e790f",
   "metadata": {},
   "source": [
    "### Get tools information"
   ]
  },
  {
   "cell_type": "code",
   "execution_count": 23,
   "id": "eeb405a7-c696-49a2-ad1a-12a965f10dcd",
   "metadata": {},
   "outputs": [
    {
     "data": {
      "text/plain": [
       "[{'_id': 'eucaim-ml-demo',\n",
       "  'name': 'eucaim ML demo',\n",
       "  'author': 'Your Name',\n",
       "  'version': '1.0',\n",
       "  'permissions': 'public',\n",
       "  'visibility': 'public',\n",
       "  'plan_type': 'FL_session',\n",
       "  'deployment_plan': {'tool_id': 'eucaim-ml-demo',\n",
       "   'replicas_range': '1-3',\n",
       "   'host_list': 'BSC'},\n",
       "  'tasks': [{'task_id': 'eucaim-fl-ml-server',\n",
       "    'replicas_range': '1-3',\n",
       "    'host_list': ['BSC']},\n",
       "   {'task_id': 'eucaim-fl-ml-client',\n",
       "    'replicas_range': '1-3',\n",
       "    'host_list': ['BSC', 'GEM']}]},\n",
       " {'_id': 'health-check',\n",
       "  'name': 'Health Check',\n",
       "  'author': 'Your Name',\n",
       "  'version': '1.0',\n",
       "  'permissions': 'public',\n",
       "  'visibility': 'public',\n",
       "  'plan_type': 'FL_session',\n",
       "  'deployment_plan': {'tool_id': 'health-check',\n",
       "   'replicas_range': '1-3',\n",
       "   'host_list': 'BSC'},\n",
       "  'tasks': [{'task_id': 'health-check',\n",
       "    'replicas_range': '1-3',\n",
       "    'host_list': ['BSC', 'GEM']}]},\n",
       " {'_id': 'eucaim-dl-demo',\n",
       "  'name': 'eucaim DL demo',\n",
       "  'author': 'Your Name',\n",
       "  'version': '1.0',\n",
       "  'permissions': 'public',\n",
       "  'visibility': 'public',\n",
       "  'plan_type': 'FL_session',\n",
       "  'deployment_plan': {'tool_id': 'eucaim-dl-demo',\n",
       "   'replicas_range': '1-3',\n",
       "   'host_list': 'BSC'},\n",
       "  'tasks': [{'task_id': 'eucaim-fl-dl-server',\n",
       "    'replicas_range': '1-3',\n",
       "    'host_list': ['BSC']},\n",
       "   {'task_id': 'eucaim-fl-dl-client',\n",
       "    'replicas_range': '1-3',\n",
       "    'host_list': ['BSC', 'GEM']}]},\n",
       " {'_id': 'data_materializer-dt4h',\n",
       "  'name': 'Data materializer DT4H',\n",
       "  'author': 'Your Name',\n",
       "  'version': '1.0',\n",
       "  'permissions': 'public',\n",
       "  'visibility': 'public',\n",
       "  'plan_type': 'FL_session',\n",
       "  'deployment_plan': {'tool_id': 'data_materializer-dt4h',\n",
       "   'replicas_range': '1-3',\n",
       "   'host_list': 'BSC'},\n",
       "  'tasks': [{'task_id': 'data_materializer-dt4h',\n",
       "    'replicas_range': '1-3',\n",
       "    'host_list': ['BSC']}]},\n",
       " {'_id': 'dt4h_summary_materializer',\n",
       "  'name': 'DT4H summary materializer',\n",
       "  'author': 'Your Name',\n",
       "  'version': '1.0',\n",
       "  'permissions': 'public',\n",
       "  'visibility': 'public',\n",
       "  'plan_type': 'FL_session',\n",
       "  'deployment_plan': {'tool_id': 'dt4h_summary_materializer',\n",
       "   'replicas_range': '1-3',\n",
       "   'host_list': 'BSC'},\n",
       "  'tasks': [{'task_id': 'get_dt4h_summary',\n",
       "    'replicas_range': '1-3',\n",
       "    'host_list': ['BSC', 'UB', 'GEM']}]},\n",
       " {'_id': 'get-output',\n",
       "  'name': 'Return output',\n",
       "  'author': 'Your Name',\n",
       "  'version': '1.0',\n",
       "  'permissions': 'public',\n",
       "  'visibility': 'public',\n",
       "  'plan_type': 'FL_session',\n",
       "  'deployment_plan': {'tool_id': 'get-output',\n",
       "   'replicas_range': '1-3',\n",
       "   'host_list': 'BSC'},\n",
       "  'tasks': [{'task_id': 'retrieve-output',\n",
       "    'replicas_range': '1-3',\n",
       "    'host_list': ['BSC', 'GEM']}]},\n",
       " {'_id': 'flcore',\n",
       "  'name': 'FLcore',\n",
       "  'author': 'Your Name',\n",
       "  'version': '1.0',\n",
       "  'permissions': 'public',\n",
       "  'visibility': 'public',\n",
       "  'plan_type': 'FL_session',\n",
       "  'deployment_plan': {'tool_id': 'flcore',\n",
       "   'replicas_range': '1-3',\n",
       "   'host_list': 'BSC'},\n",
       "  'tasks': [{'task_id': 'flcore-server',\n",
       "    'replicas_range': '1-3',\n",
       "    'host_list': ['BSC']},\n",
       "   {'task_id': 'flcore-client',\n",
       "    'replicas_range': '1-3',\n",
       "    'host_list': ['BSC', 'UB']}]}]"
      ]
     },
     "execution_count": 23,
     "metadata": {},
     "output_type": "execute_result"
    }
   ],
   "source": [
    "url = f\"{api_prefix}/tools\"\n",
    "response_data = requests.get(url, headers=headers)\n",
    "tools_list = response_data.json()\n",
    "tools_list"
   ]
  },
  {
   "cell_type": "markdown",
   "id": "d74a8746-2c5c-4176-89bf-4c4fbbaa5749",
   "metadata": {},
   "source": [
    "### Retrieve information about a specific tool"
   ]
  },
  {
   "cell_type": "code",
   "execution_count": null,
   "id": "df42a110-a849-4079-9baf-4a6d216932e1",
   "metadata": {},
   "outputs": [],
   "source": [
    "tool_id = 'dt4h_summary_materializer'\n",
    "url = f\"{api_prefix}/tools/{tool_id}\"\n",
    "response_data = requests.get(url, headers=headers)\n",
    "response_data.json()"
   ]
  },
  {
   "cell_type": "markdown",
   "id": "0bb2e674-7cff-43cd-8e55-ebd46b0f64d5",
   "metadata": {},
   "source": [
    "### Execute data materialization"
   ]
  },
  {
   "cell_type": "code",
   "execution_count": null,
   "id": "d8d8ee60-bcd0-4b12-abeb-e1b54f4b8df5",
   "metadata": {},
   "outputs": [],
   "source": [
    "tool_id = 'flcore'\n",
    "nodes_list = ['BSC', 'UB']\n",
    "\n",
    "url = f\"{api_prefix}/tools/job/{tool_id}?nodes={','.join(nodes_list)}\"\n",
    "response_data = requests.get (url, headers=headers)\n",
    "#execution_id = response_data.json()['execution_id']\n",
    "response_data.json()"
   ]
  },
  {
   "cell_type": "markdown",
   "id": "278be1a6-71bb-4df6-af6e-d87ded06da29",
   "metadata": {},
   "source": [
    "### Check execution status"
   ]
  },
  {
   "cell_type": "code",
   "execution_count": 6,
   "id": "bb46a551-6d11-442f-8739-21af66fbc9c6",
   "metadata": {},
   "outputs": [
    {
     "data": {
      "text/plain": [
       "{'status': 'success'}"
      ]
     },
     "execution_count": 6,
     "metadata": {},
     "output_type": "execute_result"
    }
   ],
   "source": [
    "execution_id='b61f46a0-4c65-433b-a0b3-dd988e55a3a3'\n",
    "url = f\"{api_prefix}/tools/jobs/{execution_id}/status\"\n",
    "response_data = requests.get (url, headers=headers)\n",
    "response_data.json()"
   ]
  },
  {
   "cell_type": "markdown",
   "id": "ccf05ecc-b686-4e06-a3b3-618cecf7d289",
   "metadata": {},
   "source": [
    "### Check the files generated during the execution"
   ]
  },
  {
   "cell_type": "code",
   "execution_count": 7,
   "id": "f1e0d163-0dfd-49fd-b6a1-5cfb91d80098",
   "metadata": {
    "tags": []
   },
   "outputs": [
    {
     "data": {
      "text/plain": [
       "{'_id': '65f0b374aa2d332692245387',\n",
       " 'task_id': 'get_dt4h_summary',\n",
       " 'user_id': 'b6ffac36-6f91-4e2c-a945-85d81f1ced1f',\n",
       " 'execution_id': 'b61f46a0-4c65-433b-a0b3-dd988e55a3a3',\n",
       " 'node': 'BSC',\n",
       " 'file_uri': 'b6ffac36-6f91-4e2c-a945-85d81f1ced1f/b61f46a0-4c65-433b-a0b3-dd988e55a3a3/summary_srdc.txt',\n",
       " 'date': '2024-03-12T19:56:36.742000',\n",
       " 'name': 'a37dc53b-ee9e-4ddb-a7ac-cf785b8f3b59'}"
      ]
     },
     "execution_count": 7,
     "metadata": {},
     "output_type": "execute_result"
    }
   ],
   "source": [
    "url = f\"{api_prefix}/data/files/job/{execution_id}\"\n",
    "response_data = requests.get (url, headers=headers)\n",
    "response_data.json()"
   ]
  },
  {
   "cell_type": "markdown",
   "id": "6fb61322-b785-4a8a-affd-dce9163b11b3",
   "metadata": {
    "tags": []
   },
   "source": [
    "### Get output file"
   ]
  },
  {
   "cell_type": "code",
   "execution_count": 8,
   "id": "a50688c1-d925-4b7b-93c7-e0be8a1fded1",
   "metadata": {},
   "outputs": [
    {
     "name": "stdout",
     "output_type": "stream",
     "text": [
      "{'status': 'File_uri processed successfully and available at /tmp.', 'processed_files': [{'_id': '65f0b374aa2d332692245387', 'file_uri': 'b6ffac36-6f91-4e2c-a945-85d81f1ced1f/b61f46a0-4c65-433b-a0b3-dd988e55a3a3/summary_srdc.txt', 'user_id': 'b6ffac36-6f91-4e2c-a945-85d81f1ced1f', 'node': 'BSC', 'execution_id': 'b61f46a0-4c65-433b-a0b3-dd988e55a3a3', 'task_id': 'get_dt4h_summary', 'date': '2024-03-12T19:56:36.742000', 'name': 'a37dc53b-ee9e-4ddb-a7ac-cf785b8f3b59'}]}\n"
     ]
    }
   ],
   "source": [
    "from urllib.parse import quote, quote_plus\n",
    "\n",
    "file_uri = \"b6ffac36-6f91-4e2c-a945-85d81f1ced1f/b61f46a0-4c65-433b-a0b3-dd988e55a3a3/summary_srdc.txt\"\n",
    "destination_folder = \"/tmp\"  \n",
    "\n",
    "# Quote and encode the file URI\n",
    "double_encoded_file_uri = quote_plus(quote(file_uri))\n",
    "\n",
    "# Include the destination folder as a query parameter in the URL\n",
    "url = f\"{api_prefix}/data/request_file/{double_encoded_file_uri}?destination_folder={quote_plus(destination_folder)}\"\n",
    "\n",
    "response_data = requests.get(url, headers=headers)\n",
    "response_json = response_data.json()\n",
    "\n",
    "# Print or handle the response as needed\n",
    "print(response_json)"
   ]
  },
  {
   "cell_type": "code",
   "execution_count": null,
   "id": "5ab013e6-b5f7-48cf-a3b7-87507520bbbc",
   "metadata": {},
   "outputs": [],
   "source": []
  },
  {
   "cell_type": "code",
   "execution_count": null,
   "id": "930ef335-065f-454e-aac3-6479dbe5c264",
   "metadata": {},
   "outputs": [],
   "source": []
  }
 ],
 "metadata": {
  "kernelspec": {
   "display_name": "Python 3 (ipykernel)",
   "language": "python",
   "name": "python3"
  },
  "language_info": {
   "codemirror_mode": {
    "name": "ipython",
    "version": 3
   },
   "file_extension": ".py",
   "mimetype": "text/x-python",
   "name": "python",
   "nbconvert_exporter": "python",
   "pygments_lexer": "ipython3",
   "version": "3.12.2"
  }
 },
 "nbformat": 4,
 "nbformat_minor": 5
}
